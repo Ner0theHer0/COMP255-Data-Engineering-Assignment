{
 "cells": [
  {
   "cell_type": "markdown",
   "metadata": {},
   "source": [
    "\n",
    "## Activity 2 - Load Sensor Data\n",
    "## Pandas"
   ]
  },
  {
   "cell_type": "code",
   "execution_count": 1,
   "metadata": {},
   "outputs": [],
   "source": [
    "# import packages\n",
    "import numpy as np\n",
    "import pandas as pd\n",
    "import math"
   ]
  },
  {
   "cell_type": "code",
   "execution_count": 2,
   "metadata": {},
   "outputs": [
    {
     "name": "stdout",
     "output_type": "stream",
     "text": [
      "The dataset contains 245576 rows.\n"
     ]
    },
    {
     "data": {
      "text/html": [
       "<div>\n",
       "<style scoped>\n",
       "    .dataframe tbody tr th:only-of-type {\n",
       "        vertical-align: middle;\n",
       "    }\n",
       "\n",
       "    .dataframe tbody tr th {\n",
       "        vertical-align: top;\n",
       "    }\n",
       "\n",
       "    .dataframe thead th {\n",
       "        text-align: right;\n",
       "    }\n",
       "</style>\n",
       "<table border=\"1\" class=\"dataframe\">\n",
       "  <thead>\n",
       "    <tr style=\"text-align: right;\">\n",
       "      <th></th>\n",
       "      <th>0</th>\n",
       "      <th>1</th>\n",
       "      <th>2</th>\n",
       "      <th>3</th>\n",
       "      <th>4</th>\n",
       "      <th>5</th>\n",
       "      <th>6</th>\n",
       "      <th>7</th>\n",
       "      <th>8</th>\n",
       "      <th>9</th>\n",
       "      <th>...</th>\n",
       "      <th>15</th>\n",
       "      <th>16</th>\n",
       "      <th>17</th>\n",
       "      <th>18</th>\n",
       "      <th>19</th>\n",
       "      <th>20</th>\n",
       "      <th>21</th>\n",
       "      <th>22</th>\n",
       "      <th>23</th>\n",
       "      <th>24</th>\n",
       "    </tr>\n",
       "  </thead>\n",
       "  <tbody>\n",
       "    <tr>\n",
       "      <th>0</th>\n",
       "      <td>0.092478</td>\n",
       "      <td>0.14400</td>\n",
       "      <td>-0.009739</td>\n",
       "      <td>231.24</td>\n",
       "      <td>42.410</td>\n",
       "      <td>181.19</td>\n",
       "      <td>-0.13840</td>\n",
       "      <td>-0.85828</td>\n",
       "      <td>0.101680</td>\n",
       "      <td>32.813</td>\n",
       "      <td>...</td>\n",
       "      <td>-6.607700</td>\n",
       "      <td>-15.092</td>\n",
       "      <td>38.214</td>\n",
       "      <td>-0.90671</td>\n",
       "      <td>-0.43698</td>\n",
       "      <td>-0.52616</td>\n",
       "      <td>-91.394</td>\n",
       "      <td>33.158</td>\n",
       "      <td>4.2875</td>\n",
       "      <td>1</td>\n",
       "    </tr>\n",
       "    <tr>\n",
       "      <th>1</th>\n",
       "      <td>0.057310</td>\n",
       "      <td>0.16003</td>\n",
       "      <td>-0.009739</td>\n",
       "      <td>238.56</td>\n",
       "      <td>51.564</td>\n",
       "      <td>174.59</td>\n",
       "      <td>-0.15410</td>\n",
       "      <td>-0.86636</td>\n",
       "      <td>0.069517</td>\n",
       "      <td>46.727</td>\n",
       "      <td>...</td>\n",
       "      <td>-5.143100</td>\n",
       "      <td>-18.021</td>\n",
       "      <td>37.482</td>\n",
       "      <td>-0.94272</td>\n",
       "      <td>-0.32132</td>\n",
       "      <td>-0.49881</td>\n",
       "      <td>-82.606</td>\n",
       "      <td>36.087</td>\n",
       "      <td>-1.5711</td>\n",
       "      <td>1</td>\n",
       "    </tr>\n",
       "    <tr>\n",
       "      <th>2</th>\n",
       "      <td>0.022143</td>\n",
       "      <td>0.18408</td>\n",
       "      <td>-0.038329</td>\n",
       "      <td>243.69</td>\n",
       "      <td>59.620</td>\n",
       "      <td>166.17</td>\n",
       "      <td>-0.15410</td>\n",
       "      <td>-0.89867</td>\n",
       "      <td>0.053434</td>\n",
       "      <td>57.346</td>\n",
       "      <td>...</td>\n",
       "      <td>-3.678400</td>\n",
       "      <td>-20.584</td>\n",
       "      <td>37.116</td>\n",
       "      <td>-0.92271</td>\n",
       "      <td>-0.21722</td>\n",
       "      <td>-0.46756</td>\n",
       "      <td>-75.283</td>\n",
       "      <td>37.552</td>\n",
       "      <td>-5.9651</td>\n",
       "      <td>1</td>\n",
       "    </tr>\n",
       "    <tr>\n",
       "      <th>3</th>\n",
       "      <td>-0.001302</td>\n",
       "      <td>0.20412</td>\n",
       "      <td>-0.030160</td>\n",
       "      <td>246.62</td>\n",
       "      <td>65.112</td>\n",
       "      <td>156.29</td>\n",
       "      <td>-0.16981</td>\n",
       "      <td>-0.90675</td>\n",
       "      <td>0.049414</td>\n",
       "      <td>65.768</td>\n",
       "      <td>...</td>\n",
       "      <td>-0.749080</td>\n",
       "      <td>-23.514</td>\n",
       "      <td>35.285</td>\n",
       "      <td>-0.89070</td>\n",
       "      <td>-0.13626</td>\n",
       "      <td>-0.45193</td>\n",
       "      <td>-69.424</td>\n",
       "      <td>37.552</td>\n",
       "      <td>-8.8945</td>\n",
       "      <td>1</td>\n",
       "    </tr>\n",
       "    <tr>\n",
       "      <th>4</th>\n",
       "      <td>-0.032562</td>\n",
       "      <td>0.20813</td>\n",
       "      <td>-0.026076</td>\n",
       "      <td>250.64</td>\n",
       "      <td>70.605</td>\n",
       "      <td>145.30</td>\n",
       "      <td>-0.16981</td>\n",
       "      <td>-0.90675</td>\n",
       "      <td>0.081579</td>\n",
       "      <td>69.063</td>\n",
       "      <td>...</td>\n",
       "      <td>-0.016749</td>\n",
       "      <td>-24.246</td>\n",
       "      <td>33.088</td>\n",
       "      <td>-0.89870</td>\n",
       "      <td>-0.10927</td>\n",
       "      <td>-0.48709</td>\n",
       "      <td>-63.566</td>\n",
       "      <td>39.017</td>\n",
       "      <td>-10.3590</td>\n",
       "      <td>1</td>\n",
       "    </tr>\n",
       "  </tbody>\n",
       "</table>\n",
       "<p>5 rows × 25 columns</p>\n",
       "</div>"
      ],
      "text/plain": [
       "         0        1         2       3       4       5        6        7   \\\n",
       "0  0.092478  0.14400 -0.009739  231.24  42.410  181.19 -0.13840 -0.85828   \n",
       "1  0.057310  0.16003 -0.009739  238.56  51.564  174.59 -0.15410 -0.86636   \n",
       "2  0.022143  0.18408 -0.038329  243.69  59.620  166.17 -0.15410 -0.89867   \n",
       "3 -0.001302  0.20412 -0.030160  246.62  65.112  156.29 -0.16981 -0.90675   \n",
       "4 -0.032562  0.20813 -0.026076  250.64  70.605  145.30 -0.16981 -0.90675   \n",
       "\n",
       "         8       9   ...        15      16      17       18       19       20  \\\n",
       "0  0.101680  32.813  ... -6.607700 -15.092  38.214 -0.90671 -0.43698 -0.52616   \n",
       "1  0.069517  46.727  ... -5.143100 -18.021  37.482 -0.94272 -0.32132 -0.49881   \n",
       "2  0.053434  57.346  ... -3.678400 -20.584  37.116 -0.92271 -0.21722 -0.46756   \n",
       "3  0.049414  65.768  ... -0.749080 -23.514  35.285 -0.89070 -0.13626 -0.45193   \n",
       "4  0.081579  69.063  ... -0.016749 -24.246  33.088 -0.89870 -0.10927 -0.48709   \n",
       "\n",
       "       21      22       23  24  \n",
       "0 -91.394  33.158   4.2875   1  \n",
       "1 -82.606  36.087  -1.5711   1  \n",
       "2 -75.283  37.552  -5.9651   1  \n",
       "3 -69.424  37.552  -8.8945   1  \n",
       "4 -63.566  39.017 -10.3590   1  \n",
       "\n",
       "[5 rows x 25 columns]"
      ]
     },
     "execution_count": 2,
     "metadata": {},
     "output_type": "execute_result"
    }
   ],
   "source": [
    "df = pd.read_csv('dataset_1.txt', sep=',', header=None)  # use pandas to read csv file\n",
    "print('The dataset contains %d rows.' % len(df)) \n",
    "df.head() # show first 5 rows of the dataset"
   ]
  },
  {
   "cell_type": "markdown",
   "metadata": {},
   "source": [
    "\n",
    "## Activity 3 - Visualize Sensor Data\n",
    "## Matplotlib"
   ]
  },
  {
   "cell_type": "code",
   "execution_count": 3,
   "metadata": {},
   "outputs": [],
   "source": [
    "import matplotlib.pyplot as plt"
   ]
  },
  {
   "cell_type": "markdown",
   "metadata": {},
   "source": [
    "By running this special iPython command, we will be displaying plots inline:"
   ]
  },
  {
   "cell_type": "code",
   "execution_count": 3,
   "metadata": {},
   "outputs": [],
   "source": [
    "%matplotlib inline"
   ]
  },
  {
   "cell_type": "code",
   "execution_count": 65,
   "metadata": {},
   "outputs": [
    {
     "data": {
      "text/plain": [
       "[<matplotlib.lines.Line2D at 0x28bd98d99b0>,\n",
       " <matplotlib.lines.Line2D at 0x28bd98d9b00>]"
      ]
     },
     "execution_count": 65,
     "metadata": {},
     "output_type": "execute_result"
    },
    {
     "data": {
      "image/png": "[encoded data removed]",
      "text/plain": [
       "<Figure size 432x288 with 1 Axes>"
      ]
     },
     "metadata": {
      "needs_background": "light"
     },
     "output_type": "display_data"
    }
   ],
   "source": [
    "df_sitting = df[df[24] == 1].values \n",
    "plt.plot(df_sitting[500:1500, 2:4]) "
   ]
  },
  {
   "cell_type": "code",
   "execution_count": 2,
   "metadata": {},
   "outputs": [
    {
     "ename": "NameError",
     "evalue": "name 'plt' is not defined",
     "output_type": "error",
     "traceback": [
      "\u001b[1;31m---------------------------------------------------------------------------\u001b[0m",
      "\u001b[1;31mNameError\u001b[0m                                 Traceback (most recent call last)",
      "\u001b[1;32m<ipython-input-2-b41ee9f520bd>\u001b[0m in \u001b[0;36m<module>\u001b[1;34m\u001b[0m\n\u001b[1;32m----> 1\u001b[1;33m \u001b[0mplt\u001b[0m\u001b[1;33m.\u001b[0m\u001b[0mplot\u001b[0m\u001b[1;33m(\u001b[0m\u001b[0mdf_sitting\u001b[0m\u001b[1;33m[\u001b[0m\u001b[1;36m500\u001b[0m\u001b[1;33m:\u001b[0m\u001b[1;36m1500\u001b[0m\u001b[1;33m,\u001b[0m \u001b[1;36m3\u001b[0m\u001b[1;33m]\u001b[0m\u001b[1;33m)\u001b[0m \u001b[1;31m# We could plot muliple lines in the same plot\u001b[0m\u001b[1;33m\u001b[0m\u001b[1;33m\u001b[0m\u001b[0m\n\u001b[0m",
      "\u001b[1;31mNameError\u001b[0m: name 'plt' is not defined"
     ]
    }
   ],
   "source": [
    "plt.plot(df_sitting[500:1500, 3]) # We could plot muliple lines in the same plot\n"
   ]
  },
  {
   "cell_type": "markdown",
   "metadata": {},
   "source": [
    "## Activity 4 - Sensor Data Signal Processing\n",
    "## Scipy "
   ]
  },
  {
   "cell_type": "markdown",
   "metadata": {},
   "source": [
    "For raw sensor data, it usually contains noise that arises from different sources, such as sensor mis\n",
    "calibration, sensor errors, errors in sensor placement, or noisy environments. We could apply filter to remove noise of sensor data\n",
    "to smooth data."
   ]
  },
  {
   "cell_type": "code",
   "execution_count": 7,
   "metadata": {},
   "outputs": [
    {
     "data": {
      "text/plain": [
       "[<matplotlib.lines.Line2D at 0x28bce450b00>,\n",
       " <matplotlib.lines.Line2D at 0x28bce450c50>,\n",
       " <matplotlib.lines.Line2D at 0x28bce450da0>]"
      ]
     },
     "execution_count": 7,
     "metadata": {},
     "output_type": "execute_result"
    },
    {
     "data": {
      "image/png": "[encoded data removed]",
      "text/plain": [
       "<Figure size 432x288 with 1 Axes>"
      ]
     },
     "metadata": {
      "needs_background": "light"
     },
     "output_type": "display_data"
    }
   ],
   "source": [
    "from scipy import signal\n",
    "\n",
    "b, a = signal.butter(4, 0.04, 'lowpass', analog=False)\n",
    "for i in range(3):\n",
    "    df_sitting[:,i] = signal.lfilter(b, a, df_sitting[:, i])\n",
    "plt.plot(df_sitting[500:1500, 0:3])\n"
   ]
  },
  {
   "cell_type": "markdown",
   "metadata": {},
   "source": [
    "## Activity 5:  Feature Engineering\n",
    "## Numpy "
   ]
  },
  {
   "cell_type": "markdown",
   "metadata": {},
   "source": [
    "For time series data, we should convert the raw dataset to feature dataset, where each data sample contains features extracted from a period of time. For example, in the last cell we plot the period of time from 500 to 1500. Now we can consider it as a segmentation and extract statistic features from it. In this tutorial, we extract min value and max value of accelerometer data of wrist sensor as features. In data visualization we could find that for different activities the sensor signal data values are in different ranges. Therefore, we could think that we could recognize different activities by the range of data, which means minimum and maximum values of data may be useful features to recognize activities.     "
   ]
  },
  {
   "cell_type": "code",
   "execution_count": 8,
   "metadata": {},
   "outputs": [
    {
     "name": "stdout",
     "output_type": "stream",
     "text": [
      "[-0.22194265347765907, -0.19935836657775846, 0.9402283561068766, 0.9548131625613635, 0.2432672903705879, 0.2607813895652679, 1]\n"
     ]
    }
   ],
   "source": [
    "seg = df_sitting[500:1500, 0:]\n",
    "a1_min = np.min(seg[:, 0])\n",
    "a1_max = np.max(seg[:, 0])\n",
    "a2_min = np.min(seg[:, 1])\n",
    "a2_max = np.max(seg[:, 1])\n",
    "a3_min = np.min(seg[:, 2])\n",
    "a3_max = np.max(seg[:, 2])\n",
    "print([a1_min, a1_max, a2_min, a2_max, a3_min, a3_max, int(seg[0, 24])])"
   ]
  },
  {
   "cell_type": "markdown",
   "metadata": {},
   "source": [
    "for each accelerometer axis data of the first senosr in the period, we extract 2 statistic feature min and max value. Now the data segmentation for activity sitting is represented the (1 * 7) vector. The first six numbers are features and the last number is the label.  "
   ]
  },
  {
   "cell_type": "code",
   "execution_count": null,
   "metadata": {},
   "outputs": [],
   "source": []
  },
  {
   "cell_type": "code",
   "execution_count": null,
   "metadata": {},
   "outputs": [],
   "source": []
  }
 ],
 "metadata": {
  "kernelspec": {
   "display_name": "Python 3",
   "language": "python",
   "name": "python3"
  },
  "language_info": {
   "codemirror_mode": {
    "name": "ipython",
    "version": 3
   },
   "file_extension": ".py",
   "mimetype": "text/x-python",
   "name": "python",
   "nbconvert_exporter": "python",
   "pygments_lexer": "ipython3",
   "version": "3.7.3"
  }
 },
 "nbformat": 4,
 "nbformat_minor": 2
}
